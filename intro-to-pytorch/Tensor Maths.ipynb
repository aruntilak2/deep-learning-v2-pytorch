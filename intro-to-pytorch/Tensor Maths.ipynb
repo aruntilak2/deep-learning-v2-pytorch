{
 "cells": [
  {
   "cell_type": "code",
   "execution_count": 13,
   "metadata": {},
   "outputs": [],
   "source": [
    "import torch"
   ]
  },
  {
   "cell_type": "code",
   "execution_count": 20,
   "metadata": {},
   "outputs": [
    {
     "name": "stdout",
     "output_type": "stream",
     "text": [
      "tensor([[1., 2., 3., 4.],\n",
      "        [3., 4., 5., 6.],\n",
      "        [3., 8., 6., 1.]])\n"
     ]
    }
   ],
   "source": [
    "ten = torch.tensor([\n",
    "    [1,2,3,4],\n",
    "    [3,4,5,6],\n",
    "    [3,8,6,1]\n",
    "], dtype=torch.float32)\n",
    "print(ten)"
   ]
  },
  {
   "cell_type": "code",
   "execution_count": 22,
   "metadata": {},
   "outputs": [
    {
     "data": {
      "text/plain": [
       "torch.Size([3, 4])"
      ]
     },
     "execution_count": 22,
     "metadata": {},
     "output_type": "execute_result"
    }
   ],
   "source": [
    "ten.size()"
   ]
  },
  {
   "cell_type": "code",
   "execution_count": 23,
   "metadata": {},
   "outputs": [
    {
     "data": {
      "text/plain": [
       "torch.Size([3, 4])"
      ]
     },
     "execution_count": 23,
     "metadata": {},
     "output_type": "execute_result"
    }
   ],
   "source": [
    "ten.shape"
   ]
  },
  {
   "cell_type": "code",
   "execution_count": 24,
   "metadata": {},
   "outputs": [
    {
     "data": {
      "text/plain": [
       "2"
      ]
     },
     "execution_count": 24,
     "metadata": {},
     "output_type": "execute_result"
    }
   ],
   "source": [
    "len(ten.shape)"
   ]
  },
  {
   "cell_type": "code",
   "execution_count": 35,
   "metadata": {},
   "outputs": [
    {
     "data": {
      "text/plain": [
       "tensor(12)"
      ]
     },
     "execution_count": 35,
     "metadata": {},
     "output_type": "execute_result"
    }
   ],
   "source": [
    "torch.tensor(ten.shape).prod()"
   ]
  },
  {
   "cell_type": "code",
   "execution_count": 37,
   "metadata": {},
   "outputs": [
    {
     "data": {
      "text/plain": [
       "12"
      ]
     },
     "execution_count": 37,
     "metadata": {},
     "output_type": "execute_result"
    }
   ],
   "source": [
    "ten.numel()"
   ]
  },
  {
   "cell_type": "code",
   "execution_count": 42,
   "metadata": {},
   "outputs": [
    {
     "data": {
      "text/plain": [
       "tensor([[1., 2., 3., 4., 3., 4.],\n",
       "        [5., 6., 3., 8., 6., 1.]])"
      ]
     },
     "execution_count": 42,
     "metadata": {},
     "output_type": "execute_result"
    }
   ],
   "source": [
    "ten.reshape(2,6)"
   ]
  },
  {
   "cell_type": "code",
   "execution_count": 50,
   "metadata": {},
   "outputs": [
    {
     "name": "stdout",
     "output_type": "stream",
     "text": [
      "tensor([1., 2., 3., 4., 3., 4., 5., 6., 3., 8., 6., 1.])\n",
      "torch.Size([12])\n"
     ]
    }
   ],
   "source": [
    "print(ten.reshape(1,12).squeeze())\n",
    "print(ten.reshape(1,12).squeeze().shape)"
   ]
  },
  {
   "cell_type": "code",
   "execution_count": 55,
   "metadata": {},
   "outputs": [
    {
     "name": "stdout",
     "output_type": "stream",
     "text": [
      "tensor([[[1., 2., 3., 4., 3., 4.],\n",
      "         [5., 6., 3., 8., 6., 1.]]])\n",
      "torch.Size([1, 2, 6])\n"
     ]
    }
   ],
   "source": [
    "print(ten.reshape(2,6).unsqueeze(dim=0))\n",
    "print(ten.reshape(2,6).unsqueeze(dim=0).shape)"
   ]
  },
  {
   "cell_type": "code",
   "execution_count": 61,
   "metadata": {},
   "outputs": [
    {
     "name": "stdout",
     "output_type": "stream",
     "text": [
      "tensor([[-1.0556,  2.0221,  0.9385, -1.1676],\n",
      "        [-0.0429, -1.5460,  0.5390, -0.1666],\n",
      "        [-0.2079,  0.5444, -1.1509, -0.4112]])\n"
     ]
    }
   ],
   "source": [
    "ten2 = torch.randn_like(ten)\n",
    "print(ten2)"
   ]
  },
  {
   "cell_type": "code",
   "execution_count": 66,
   "metadata": {},
   "outputs": [
    {
     "name": "stdout",
     "output_type": "stream",
     "text": [
      "tensor([[  0.4038,  -3.1672,  -4.4221],\n",
      "        [ -1.8757,  -1.8439,  -6.8754],\n",
      "        [ -8.7291,   3.5726, -11.2110]])\n"
     ]
    }
   ],
   "source": [
    "#mm\n",
    "mul = torch.mm(ten,ten2.view(4,3))\n",
    "print(mul)"
   ]
  },
  {
   "cell_type": "code",
   "execution_count": 69,
   "metadata": {},
   "outputs": [
    {
     "name": "stdout",
     "output_type": "stream",
     "text": [
      "tensor([[  0.4038,  -3.1672,  -4.4221],\n",
      "        [ -1.8757,  -1.8439,  -6.8754],\n",
      "        [ -8.7291,   3.5726, -11.2110]])\n"
     ]
    }
   ],
   "source": [
    "#matmul\n",
    "mml = torch.matmul(ten, ten2.view(4,3))\n",
    "print(mml)"
   ]
  },
  {
   "cell_type": "code",
   "execution_count": 70,
   "metadata": {},
   "outputs": [
    {
     "name": "stdout",
     "output_type": "stream",
     "text": [
      "tensor([[-0.0556,  4.0221,  3.9385,  2.8324],\n",
      "        [ 2.9571,  2.4540,  5.5390,  5.8334],\n",
      "        [ 2.7921,  8.5444,  4.8491,  0.5888]])\n"
     ]
    }
   ],
   "source": [
    "add = ten+ten2\n",
    "print(add)"
   ]
  },
  {
   "cell_type": "code",
   "execution_count": 83,
   "metadata": {},
   "outputs": [
    {
     "name": "stdout",
     "output_type": "stream",
     "text": [
      "tensor(-7.0688)\n"
     ]
    }
   ],
   "source": [
    "summa = torch.sum(ten*ten2)\n",
    "print(summa)"
   ]
  }
 ],
 "metadata": {
  "kernelspec": {
   "display_name": "Python 3",
   "language": "python",
   "name": "python3"
  },
  "language_info": {
   "codemirror_mode": {
    "name": "ipython",
    "version": 3
   },
   "file_extension": ".py",
   "mimetype": "text/x-python",
   "name": "python",
   "nbconvert_exporter": "python",
   "pygments_lexer": "ipython3",
   "version": "3.7.0"
  }
 },
 "nbformat": 4,
 "nbformat_minor": 2
}
